{
 "cells": [
  {
   "cell_type": "code",
   "execution_count": 1,
   "metadata": {},
   "outputs": [],
   "source": [
    "import gpboost as gpb\n",
    "import numpy as np\n",
    "import matplotlib.pyplot as plt\n",
    "from scipy import stats"
   ]
  },
  {
   "cell_type": "code",
   "execution_count": 2,
   "metadata": {},
   "outputs": [],
   "source": [
    "plt.style.use('ggplot')"
   ]
  },
  {
   "cell_type": "code",
   "execution_count": 3,
   "metadata": {},
   "outputs": [
    {
     "data": {
      "image/png": "[encoded data removed]",
      "text/plain": [
       "<Figure size 432x288 with 1 Axes>"
      ]
     },
     "metadata": {
      "needs_background": "light"
     },
     "output_type": "display_data"
    }
   ],
   "source": [
    "def f1d(x):\n",
    "    \"\"\"Non-linear fixed effects function for simulation\"\"\"\n",
    "    return 1 / (1 + np.exp(-(x - 0.5) * 10)) - 0.5\n",
    "\n",
    "def simulate_response_variable(lp, rand_eff, likelihood):\n",
    "    \"\"\"Function that simulates response variable for various likelihoods\"\"\"\n",
    "    n = len(rand_eff)\n",
    "    if likelihood == \"gaussian\":\n",
    "        xi = 0.25 * np.random.normal(size=n) # error term\n",
    "        y = lp + rand_eff + xi\n",
    "    elif likelihood == \"bernoulli_probit\":\n",
    "        probs = stats.norm.cdf(lp + rand_eff)\n",
    "        y = np.random.uniform(size=n) < probs\n",
    "        y = y.astype(np.float64)\n",
    "    elif likelihood == \"bernoulli_logit\":\n",
    "        probs = 1 / (1 + np.exp(-(lp + rand_eff)))\n",
    "        y = np.random.uniform(size=n) < probs\n",
    "        y = y.astype(np.float64)\n",
    "    elif likelihood == \"poisson\":\n",
    "        mu = np.exp(lp + rand_eff)\n",
    "        y = stats.poisson.ppf(np.random.uniform(size=n), mu=mu)\n",
    "    elif likelihood == \"gamma\":\n",
    "        mu = np.exp(lp + rand_eff)\n",
    "        y = mu * stats.gamma.ppf(np.random.uniform(size=n), a=1)\n",
    "    return y\n",
    "\n",
    "# Choose likelihood: either \"gaussian\" (=regression), \n",
    "#                     \"bernoulli_probit\", \"bernoulli_logit\", (=classification)\n",
    "#                     \"poisson\", or \"gamma\"\n",
    "likelihood = \"gaussian\"\n",
    "\n",
    "\"\"\"\n",
    "Combine tree-boosting and grouped random effects model\n",
    "\"\"\"\n",
    "# --------------------Simulate data----------------\n",
    "n = 5000  # number of samples\n",
    "m = 500  # number of groups\n",
    "np.random.seed(1)\n",
    "# Simulate grouped random effects\n",
    "group = np.arange(n)  # grouping variable\n",
    "for i in range(m):\n",
    "    group[int(i * n / m):int((i + 1) * n / m)] = i\n",
    "b1 = np.sqrt(0.5) * np.random.normal(size=m)  # simulate random effects\n",
    "rand_eff = b1[group]\n",
    "rand_eff = rand_eff - np.mean(rand_eff)\n",
    "# Simulate fixed effects\n",
    "p = 5 # number of predictor variables\n",
    "X = np.random.rand(n, p)\n",
    "f = f1d(X[:, 0])\n",
    "y = simulate_response_variable(lp=f, rand_eff=rand_eff, likelihood=likelihood)\n",
    "hst = plt.hist(y, bins=20)  # visualize response variable\n",
    "plt.show(block=False)\n",
    "\n",
    "# Specify boosting parameters as dict\n",
    "params = {'objective': likelihood, 'learning_rate': 0.01, 'max_depth': 3,\n",
    "          'verbose': 0}\n",
    "num_boost_round = 250\n",
    "if likelihood == \"gaussian\":\n",
    "    num_boost_round = 50\n",
    "    params['objective'] = 'regression_l2'\n",
    "if likelihood in (\"bernoulli_probit\", \"bernoulli_logit\"):\n",
    "    num_boost_round = 500\n",
    "    params['objective'] = 'binary'\n",
    "# Note: these parameters are not necessarily optimal for all situations considered here"
   ]
  },
  {
   "cell_type": "code",
   "execution_count": 4,
   "metadata": {},
   "outputs": [
    {
     "ename": "",
     "evalue": "",
     "output_type": "error",
     "traceback": [
      "The Kernel crashed while executing code in the the current cell or a previous cell. Please review the code in the cell(s) to identify a possible cause of the failure. Click <a href='https://aka.ms/vscodeJupyterKernelCrash'>here</a> for more info. View Jupyter <a href='command:jupyter.viewOutput'>log</a> for further details."
     ]
    },
    {
     "ename": "",
     "evalue": "",
     "output_type": "error",
     "traceback": [
      "\u001b[1;31mCanceled future for execute_request message before replies were done"
     ]
    }
   ],
   "source": [
    "#--------------------Training----------------\n",
    "# Define random effects model\n",
    "gp_model = gpb.GPModel(group_data=group, likelihood=likelihood)\n",
    "# The default optimizer for covariance parameters (hyperparameters) is Nesterov-accelerated gradient descent.\n",
    "# This can be changed to, e.g., Nelder-Mead as follows:\n",
    "# gp_model.set_optim_params(params={\"optimizer_cov\": \"nelder_mead\"})\n",
    "# Use the option \"trace\": true to monitor convergence of hyperparameter estimation of the gp_model. E.g.:\n",
    "# gp_model.set_optim_params(params={\"trace\": True})\n",
    "\n",
    "# Create dataset for gpb.train\n",
    "data_train = gpb.Dataset(X, y)\n",
    "bst = gpb.train(params=params, train_set=data_train,  gp_model=gp_model,\n",
    "                num_boost_round=num_boost_round)\n",
    "gp_model.summary() # Estimated random effects model"
   ]
  },
  {
   "cell_type": "code",
   "execution_count": 1,
   "metadata": {},
   "outputs": [],
   "source": [
    "import torch"
   ]
  },
  {
   "cell_type": "code",
   "execution_count": null,
   "metadata": {},
   "outputs": [],
   "source": []
  }
 ],
 "metadata": {
  "kernelspec": {
   "display_name": "Python 3.9.13 ('cat-project')",
   "language": "python",
   "name": "python3"
  },
  "language_info": {
   "codemirror_mode": {
    "name": "ipython",
    "version": 3
   },
   "file_extension": ".py",
   "mimetype": "text/x-python",
   "name": "python",
   "nbconvert_exporter": "python",
   "pygments_lexer": "ipython3",
   "version": "3.9.13"
  },
  "orig_nbformat": 4,
  "vscode": {
   "interpreter": {
    "hash": "4c9fce7e68d956dc0e59a17fbd3bba5a26e026959d0164da36baf326c848e906"
   }
  }
 },
 "nbformat": 4,
 "nbformat_minor": 2
}
